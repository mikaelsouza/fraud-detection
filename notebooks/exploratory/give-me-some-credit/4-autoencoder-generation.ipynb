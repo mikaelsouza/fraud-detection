{
 "cells": [
  {
   "cell_type": "code",
   "execution_count": 1,
   "metadata": {},
   "outputs": [
    {
     "name": "stderr",
     "output_type": "stream",
     "text": [
      "Using TensorFlow backend.\n"
     ]
    }
   ],
   "source": [
    "import keras\n",
    "import numpy as np\n",
    "import matplotlib.pyplot as plt\n",
    "import pandas as pd\n",
    "import sklearn.preprocessing as preprocessing\n",
    "import sklearn.model_selection as model_selection\n",
    "import fraudutils as futils"
   ]
  },
  {
   "cell_type": "code",
   "execution_count": 2,
   "metadata": {},
   "outputs": [],
   "source": [
    "train, test, val = futils.load_train_test_val_dataset('../../../data/processed/give-me-some-credit/')\n",
    "\n",
    "X_train = train.drop(['SeriousDlqin2yrs'], axis=1)\n",
    "y_train = train['SeriousDlqin2yrs']\n",
    "\n",
    "X_test = test.drop(['SeriousDlqin2yrs'], axis=1)\n",
    "y_test = test['SeriousDlqin2yrs']\n",
    "\n",
    "X_val = val.drop(['SeriousDlqin2yrs'], axis=1)\n",
    "y_val = val['SeriousDlqin2yrs']"
   ]
  },
  {
   "cell_type": "code",
   "execution_count": 3,
   "metadata": {},
   "outputs": [],
   "source": [
    "model = keras.models.Sequential()\n",
    "model.add(keras.layers.Dense(20, activation='relu', input_shape=(X_train.shape[1],)))\n",
    "model.add(keras.layers.Dense(10, activation='relu'))\n",
    "model.add(keras.layers.Dense(1, activation='relu'))\n",
    "model.add(keras.layers.Dense(10, activation='sigmoid'))\n",
    "model.compile(optimizer='rmsprop', loss='mse')"
   ]
  },
  {
   "cell_type": "code",
   "execution_count": 4,
   "metadata": {},
   "outputs": [
    {
     "name": "stdout",
     "output_type": "stream",
     "text": [
      "Train on 90000 samples, validate on 45000 samples\n",
      "Epoch 1/10\n",
      "90000/90000 [==============================] - 2s 21us/step - loss: 0.0853 - val_loss: 0.0131\n",
      "Epoch 2/10\n",
      "90000/90000 [==============================] - 1s 15us/step - loss: 0.0037 - val_loss: 0.0026\n",
      "Epoch 3/10\n",
      "90000/90000 [==============================] - 1s 14us/step - loss: 0.0024 - val_loss: 0.0022\n",
      "Epoch 4/10\n",
      "90000/90000 [==============================] - 1s 13us/step - loss: 0.0020 - val_loss: 0.0018A: 0s - loss: 0\n",
      "Epoch 5/10\n",
      "90000/90000 [==============================] - 1s 15us/step - loss: 0.0016 - val_loss: 0.0016\n",
      "Epoch 6/10\n",
      "90000/90000 [==============================] - 1s 14us/step - loss: 0.0015 - val_loss: 0.0014\n",
      "Epoch 7/10\n",
      "90000/90000 [==============================] - 2s 24us/step - loss: 0.0014 - val_loss: 0.0013\n",
      "Epoch 8/10\n",
      "90000/90000 [==============================] - 1s 16us/step - loss: 0.0013 - val_loss: 0.0013\n",
      "Epoch 9/10\n",
      "90000/90000 [==============================] - 2s 18us/step - loss: 0.0012 - val_loss: 0.0012\n",
      "Epoch 10/10\n",
      "90000/90000 [==============================] - 2s 20us/step - loss: 0.0012 - val_loss: 0.0012\n"
     ]
    }
   ],
   "source": [
    "history = model.fit(X_train, X_train, batch_size=128, epochs=10, validation_data=(X_test, X_test))"
   ]
  },
  {
   "cell_type": "code",
   "execution_count": 5,
   "metadata": {},
   "outputs": [
    {
     "data": {
      "image/png": "[encoded data removed]",
      "text/plain": [
       "<Figure size 432x288 with 1 Axes>"
      ]
     },
     "metadata": {},
     "output_type": "display_data"
    }
   ],
   "source": [
    "plt.plot(history.history['loss'])\n",
    "plt.plot(history.history['val_loss'])\n",
    "plt.ylabel('mse loss')\n",
    "plt.xlabel('epoch')\n",
    "plt.legend(['train', 'test'], loc='upper left')\n",
    "plt.show()"
   ]
  },
  {
   "cell_type": "code",
   "execution_count": null,
   "metadata": {},
   "outputs": [],
   "source": []
  }
 ],
 "metadata": {
  "kernelspec": {
   "display_name": "Python 3",
   "language": "python",
   "name": "python3"
  },
  "language_info": {
   "codemirror_mode": {
    "name": "ipython",
    "version": 3
   },
   "file_extension": ".py",
   "mimetype": "text/x-python",
   "name": "python",
   "nbconvert_exporter": "python",
   "pygments_lexer": "ipython3",
   "version": "3.6.5"
  }
 },
 "nbformat": 4,
 "nbformat_minor": 2
}
