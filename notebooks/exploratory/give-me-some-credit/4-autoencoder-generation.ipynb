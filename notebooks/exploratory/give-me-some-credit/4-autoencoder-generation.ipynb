{
 "cells": [
  {
   "cell_type": "markdown",
   "metadata": {},
   "source": [
    "# 4. Autoencoder Generation\n",
    "\n",
    "In this notebook I'll be creating an autoencoder and generating a representation of the data to be used later on the Feed Forward Neural Network."
   ]
  },
  {
   "cell_type": "code",
   "execution_count": 1,
   "metadata": {},
   "outputs": [
    {
     "name": "stderr",
     "output_type": "stream",
     "text": [
      "Using TensorFlow backend.\n"
     ]
    }
   ],
   "source": [
    "import keras\n",
    "import numpy as np\n",
    "import matplotlib.pyplot as plt\n",
    "import pandas as pd\n",
    "import sklearn.preprocessing as preprocessing\n",
    "import sklearn.model_selection as model_selection\n",
    "import fraudutils as futils"
   ]
  },
  {
   "cell_type": "code",
   "execution_count": 2,
   "metadata": {},
   "outputs": [],
   "source": [
    "# Defining function to show some graphics\n",
    "def plot_results(p1, p2, legend):\n",
    "    plt.title(legend)\n",
    "    plt.plot(p1)\n",
    "    plt.plot(p2)\n",
    "    plt.legend([legend, 'Validation ' + legend])\n",
    "    plt.ylabel(legend)\n",
    "    plt.xlabel('Epochs')\n",
    "    plt.show()"
   ]
  },
  {
   "cell_type": "code",
   "execution_count": 3,
   "metadata": {},
   "outputs": [],
   "source": [
    "# Loading dataset\n",
    "train, test, val = futils.load_train_test_val_dataset('../../../data/processed/give-me-some-credit/')\n",
    "\n",
    "X_train = train.drop(['SeriousDlqin2yrs'], axis=1)\n",
    "y_train = train['SeriousDlqin2yrs']\n",
    "\n",
    "X_test = test.drop(['SeriousDlqin2yrs'], axis=1)\n",
    "y_test = test['SeriousDlqin2yrs']\n",
    "\n",
    "X_val = val.drop(['SeriousDlqin2yrs'], axis=1)\n",
    "y_val = val['SeriousDlqin2yrs']"
   ]
  },
  {
   "cell_type": "markdown",
   "metadata": {},
   "source": [
    "### Creating models for representations"
   ]
  },
  {
   "cell_type": "code",
   "execution_count": 4,
   "metadata": {},
   "outputs": [],
   "source": [
    "n_dims = 3\n",
    "\n",
    "# Using functional approach\n",
    "# Defining input layer\n",
    "inputs = keras.layers.Input(shape=(X_train.shape[1],))\n",
    "\n",
    "# Defining encoding layers\n",
    "encoding = keras.layers.Dense(10, activation='relu')(inputs)\n",
    "encoding = keras.layers.BatchNormalization()(encoding)\n",
    "encoding = keras.layers.Dense(10, activation='relu')(encoding)\n",
    "encoding = keras.layers.BatchNormalization()(encoding)\n",
    "encoding = keras.layers.Dense(n_dims, activation='sigmoid')(encoding)\n",
    "\n",
    "# Defining decoding/output layer\n",
    "decoding = keras.layers.BatchNormalization()(encoding)\n",
    "decoding = keras.layers.Dense(10, activation='sigmoid')(decoding)\n",
    "\n",
    "# Generating both models\n",
    "model_trainer = keras.models.Model(inputs=inputs, outputs=decoding)\n",
    "model_encoder = keras.models.Model(inputs=inputs, outputs=encoding)\n",
    "\n",
    "model_trainer.compile(optimizer='rmsprop', loss='mse')"
   ]
  },
  {
   "cell_type": "code",
   "execution_count": 5,
   "metadata": {},
   "outputs": [
    {
     "name": "stdout",
     "output_type": "stream",
     "text": [
      "Train on 90000 samples, validate on 45000 samples\n",
      "Epoch 1/10\n",
      " - 3s - loss: 0.0990 - val_loss: 0.0115\n",
      "Epoch 2/10\n",
      " - 2s - loss: 0.0032 - val_loss: 0.0010\n",
      "Epoch 3/10\n",
      " - 2s - loss: 5.1491e-04 - val_loss: 4.2188e-04\n",
      "Epoch 4/10\n",
      " - 2s - loss: 3.1950e-04 - val_loss: 4.4472e-04\n",
      "Epoch 5/10\n",
      " - 2s - loss: 1.9382e-04 - val_loss: 5.4448e-04\n",
      "Epoch 6/10\n",
      " - 2s - loss: 1.7243e-04 - val_loss: 5.1520e-04\n",
      "Epoch 7/10\n",
      " - 2s - loss: 1.6248e-04 - val_loss: 4.3353e-04\n",
      "Epoch 8/10\n",
      " - 2s - loss: 1.5540e-04 - val_loss: 4.0634e-04\n",
      "Epoch 9/10\n",
      " - 2s - loss: 1.5046e-04 - val_loss: 3.4322e-04\n",
      "Epoch 10/10\n",
      " - 2s - loss: 1.4350e-04 - val_loss: 1.8889e-04\n"
     ]
    },
    {
     "data": {
      "image/png": "[encoded data removed]",
      "text/plain": [
       "<Figure size 432x288 with 1 Axes>"
      ]
     },
     "metadata": {},
     "output_type": "display_data"
    }
   ],
   "source": [
    "h = model_trainer.fit(X_train, X_train, batch_size=128, epochs=10, validation_data=(X_test, X_test), verbose=2)\n",
    "plot_results(h.history['loss'], h.history['val_loss'], 'Loss')"
   ]
  },
  {
   "cell_type": "markdown",
   "metadata": {},
   "source": [
    "### Saving data to csv files to be used later"
   ]
  },
  {
   "cell_type": "code",
   "execution_count": 6,
   "metadata": {},
   "outputs": [],
   "source": [
    "# Generating representations\n",
    "X_train_representation = model_encoder.predict(X_train)\n",
    "X_test_representation = model_encoder.predict(X_test)\n",
    "X_val_representation = model_encoder.predict(X_val)"
   ]
  },
  {
   "cell_type": "code",
   "execution_count": 7,
   "metadata": {},
   "outputs": [],
   "source": [
    "# Creating a dataframe for each split\n",
    "def get_representation(X, y, columns):\n",
    "    representation = pd.DataFrame(np.column_stack((y, X)), columns=columns)\n",
    "    return representation\n",
    "\n",
    "columns = ['SeriousDlqin2yrs']\n",
    "columns.extend(['f' + str(i) for i in range(n_dims)])\n",
    "\n",
    "train_representation = get_representation(X_train_representation, y_train, columns)\n",
    "test_representation = get_representation(X_test_representation, y_test, columns)\n",
    "val_representation = get_representation(X_val_representation, y_val, columns)\n",
    "\n",
    "# Saving it to csv\n",
    "file_path = '../../../data/interim/give-me-some-credit/autoencoder/'\n",
    "\n",
    "train_representation.to_csv(file_path + 'train_rep.csv')\n",
    "test_representation.to_csv(file_path + 'test_rep.csv')\n",
    "val_representation.to_csv(file_path + 'val_rep.csv')"
   ]
  },
  {
   "cell_type": "code",
   "execution_count": null,
   "metadata": {},
   "outputs": [],
   "source": []
  }
 ],
 "metadata": {
  "kernelspec": {
   "display_name": "Python 3",
   "language": "python",
   "name": "python3"
  },
  "language_info": {
   "codemirror_mode": {
    "name": "ipython",
    "version": 3
   },
   "file_extension": ".py",
   "mimetype": "text/x-python",
   "name": "python",
   "nbconvert_exporter": "python",
   "pygments_lexer": "ipython3",
   "version": "3.6.5"
  }
 },
 "nbformat": 4,
 "nbformat_minor": 2
}
