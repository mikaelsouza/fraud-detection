{
 "cells": [
  {
   "cell_type": "code",
   "execution_count": 2,
   "metadata": {},
   "outputs": [],
   "source": [
    "import keras\n",
    "import numpy as np\n",
    "from sklearn import model_selection, preprocessing, metrics, utils\n",
    "import pandas as pd\n",
    "import matplotlib.pyplot as plt\n",
    "#import fraudutils as futils\n",
    "rs = 1"
   ]
  },
  {
   "cell_type": "code",
   "execution_count": 31,
   "metadata": {},
   "outputs": [],
   "source": [
    "import numpy as np\n",
    "import matplotlib.pyplot as plt\n",
    "import pandas as pd\n",
    "import itertools\n",
    "\n",
    "from sklearn.metrics import recall_score, precision_score, accuracy_score, make_scorer, confusion_matrix, average_precision_score, roc_auc_score\n",
    "from pprint import pprint\n",
    "\n",
    "def load_train_test_val_dataset(path, files=['train_df.csv', 'test_df.csv', 'val_df.csv']):\n",
    "    data = []\n",
    "\n",
    "    for file_name in files:\n",
    "        df = pd.read_csv(path + file_name)\n",
    "        data.append(df)\n",
    "    return data\n",
    "\n",
    "# http://scikit-learn.org/stable/auto_examples/model_selection/plot_confusion_matrix.html\n",
    "def plot_confusion_matrix(cm, classes,\n",
    "                          normalize=False,\n",
    "                          title='Confusion matrix',\n",
    "                          cmap=plt.cm.Blues,\n",
    "                          show_matrix=False,\n",
    "                          show_desc=False):\n",
    "    \"\"\"\n",
    "    This function prints and plots the confusion matrix.\n",
    "    Normalization can be applied by setting `normalize=True`.\n",
    "    \"\"\"\n",
    "    if normalize:\n",
    "        cm = cm.astype('float') / cm.sum(axis=1)[:, np.newaxis]\n",
    "        if show_desc:\n",
    "            print(\"Normalized confusion matrix\")\n",
    "    else:\n",
    "        if show_desc:\n",
    "            print('Confusion matrix, without normalization')\n",
    "\n",
    "    if show_matrix:\n",
    "        print(cm)\n",
    "\n",
    "    plt.imshow(cm, interpolation='nearest', cmap=cmap)\n",
    "    plt.title(title)\n",
    "    plt.colorbar()\n",
    "    tick_marks = np.arange(len(classes))\n",
    "    plt.xticks(tick_marks, classes, rotation=45)\n",
    "    plt.yticks(tick_marks, classes)\n",
    "\n",
    "    fmt = '.2f' if normalize else 'd'\n",
    "    thresh = cm.max() / 2.\n",
    "    for i, j in itertools.product(range(cm.shape[0]), range(cm.shape[1])):\n",
    "        plt.text(j, i, format(cm[i, j], fmt),\n",
    "                 horizontalalignment=\"center\",\n",
    "                 color=\"white\" if cm[i, j] > thresh else \"black\")\n",
    "\n",
    "    plt.tight_layout()\n",
    "    plt.ylabel('True label')\n",
    "    plt.xlabel('Predicted label')\n",
    "    plt.show()\n",
    "\n",
    "\n",
    "def classify(X_train, X_test, y_train, y_test, classifier, random_state=0, normalized=True):\n",
    "    \n",
    "    clf = classifier\n",
    "    clf.fit(X_train, y_train)\n",
    "    y_pred = clf.predict(X_test)\n",
    "    \n",
    "    accuracy = accuracy_score(y_test, y_pred)\n",
    "    precision = precision_score(y_test, y_pred)\n",
    "    recall = recall_score(y_test, y_pred)\n",
    "    auprc = average_precision_score(y_test, y_pred)\n",
    "    auroc = roc_auc_score(y_test, y_pred)\n",
    "    \n",
    "    print(\"Mean accuracy: {}\".format(accuracy))\n",
    "    print(\"Mean precision: {}\".format(precision))\n",
    "    print(\"Mean recall: {}\".format(recall))\n",
    "    print(\"AUPRC: {}\".format(auprc))\n",
    "    print(\"AUROC: {}\".format(auroc))\n",
    "    \n",
    "    cm = confusion_matrix(y_true=y_test, y_pred=y_pred)\n",
    "    plot_confusion_matrix(cm=cm, classes=['Not fraud', 'Fraud'], normalize=normalized)\n",
    "    \n",
    "    return {'accuracy': accuracy, \n",
    "            'precision': precision,\n",
    "            'recall': recall,\n",
    "            'AUPRC': auprc,\n",
    "            'AUROC': auroc}\n",
    "\n",
    "def stratified_crossvalidation(classifier, X, y, cv, scoring, normalized=False):\n",
    "    from sklearn.model_selection import StratifiedKFold\n",
    "    from collections import defaultdict\n",
    "    from statistics import mean\n",
    "    \n",
    "    X = np.array(X)\n",
    "    y = np.array(y)\n",
    "    \n",
    "    sfk = StratifiedKFold(cv)\n",
    "    results = defaultdict(list)\n",
    "    \n",
    "    general_y_pred = []\n",
    "    general_y_real = []\n",
    "\n",
    "    for train_index, test_index in sfk.split(X, y):\n",
    "        \n",
    "        X_train = X[train_index]\n",
    "        X_test = X[test_index]\n",
    "        y_train = y[train_index]\n",
    "        y_test = y[test_index]\n",
    "        \n",
    "        clf = classifier\n",
    "        clf.fit(X_train, y_train)\n",
    "        y_pred = clf.predict(X_test)\n",
    "\n",
    "        general_y_pred.extend(y_pred)\n",
    "        general_y_real.extend(y_test)\n",
    "        \n",
    "        for score_name, score_function in scoring.items():\n",
    "            results[score_name].append(score_function(clf, X_test, y_test))\n",
    "    \n",
    "    for score_name, score_results in results.items():\n",
    "        results[score_name] = mean(score_results)\n",
    "    \n",
    "    cm = confusion_matrix(y_true=general_y_real, y_pred=general_y_pred)\n",
    "    plot_confusion_matrix(cm=cm, classes=['Not fraud', 'Fraud'], normalize=normalized)\n",
    "\n",
    "    results = dict(results)\n",
    "    pprint(results)\n",
    "\n",
    "    return results"
   ]
  },
  {
   "cell_type": "markdown",
   "metadata": {},
   "source": [
    "### Loading Dataset"
   ]
  },
  {
   "cell_type": "code",
   "execution_count": 32,
   "metadata": {},
   "outputs": [],
   "source": [
    "train, test, val = load_train_test_val_dataset('../../../data/processed/give-me-some-credit/')\n",
    "\n",
    "X_train = train.drop('SeriousDlqin2yrs', axis=1)\n",
    "y_train = train['SeriousDlqin2yrs']\n",
    "\n",
    "X_test = test.drop('SeriousDlqin2yrs', axis=1)\n",
    "y_test = test['SeriousDlqin2yrs']\n",
    "\n",
    "X_val = val.drop('SeriousDlqin2yrs', axis=1)\n",
    "y_val = val['SeriousDlqin2yrs']"
   ]
  },
  {
   "cell_type": "code",
   "execution_count": 33,
   "metadata": {},
   "outputs": [],
   "source": [
    "y_train = np.array([[x[0], x[1], 0] for x in keras.utils.to_categorical(y_train)])\n",
    "y_test = np.array([[x[0], x[1], 0] for x in keras.utils.to_categorical(y_test)])\n",
    "y_val = np.array([[x[0], x[1], 0] for x in keras.utils.to_categorical(y_val)])"
   ]
  },
  {
   "cell_type": "markdown",
   "metadata": {},
   "source": [
    "### Defining sizes"
   ]
  },
  {
   "cell_type": "code",
   "execution_count": 34,
   "metadata": {},
   "outputs": [],
   "source": [
    "# Input for generator network\n",
    "noise_size = 100\n",
    "label_size = 3\n",
    "representation_size = 10\n",
    "hidden_layer = 128"
   ]
  },
  {
   "cell_type": "markdown",
   "metadata": {},
   "source": [
    "### Using Paper's Hyperparameters"
   ]
  },
  {
   "cell_type": "code",
   "execution_count": 35,
   "metadata": {},
   "outputs": [],
   "source": [
    "adam = keras.optimizers.Adam(lr=0.00001)"
   ]
  },
  {
   "cell_type": "markdown",
   "metadata": {},
   "source": [
    "### Defining Generator Model"
   ]
  },
  {
   "cell_type": "code",
   "execution_count": 36,
   "metadata": {},
   "outputs": [],
   "source": [
    "gen_input_size = noise_size\n",
    "# Generating input layer with functional approach\n",
    "gen_input = keras.layers.Input(shape=(gen_input_size,))\n",
    "# Dropbout for fun\n",
    "gen_drop_layer = keras.layers.Dropout(0.1)(gen_input)\n",
    "# Generating hidden layer using functional approach\n",
    "gen_hidden = keras.layers.Dense(hidden_layer, activation='tanh')(gen_drop_layer)\n",
    "# Generating output layer using functional approach\n",
    "gen_output = keras.layers.Dense(representation_size, activation='sigmoid')(gen_hidden)\n",
    "# Defining model\n",
    "gen_model = keras.models.Model(inputs=gen_input, outputs=gen_output)\n",
    "gen_model.compile(optimizer=adam, loss='mse', metrics=['accuracy'])"
   ]
  },
  {
   "cell_type": "markdown",
   "metadata": {},
   "source": [
    "### Defining Discriminator Model"
   ]
  },
  {
   "cell_type": "code",
   "execution_count": 37,
   "metadata": {},
   "outputs": [],
   "source": [
    "dis_input_size = representation_size \n",
    "# Discriminator input layer\n",
    "dis_input = keras.layers.Input(shape=(representation_size,))\n",
    "# Discriminator hidden layer\n",
    "dis_drop_layer = keras.layers.Dropout(0.1)(dis_input)\n",
    "dis_hidden = keras.layers.Dense(hidden_layer, activation='tanh')(dis_input)\n",
    "# Discriminator output layer\n",
    "dis_output = keras.layers.Dense(3, activation='softmax')(dis_hidden)\n",
    "# Defining model\n",
    "dis_model = keras.models.Model(inputs=dis_input, outputs=dis_output)\n",
    "dis_model.compile(optimizer=adam, loss='categorical_crossentropy', metrics=['accuracy'])"
   ]
  },
  {
   "cell_type": "code",
   "execution_count": 38,
   "metadata": {},
   "outputs": [],
   "source": [
    "# Combined Network\n",
    "dis_model.trainable = False\n",
    "gan_input = keras.layers.Input(shape=(noise_size,))\n",
    "\n",
    "x = gen_model(gan_input)\n",
    "gan_output = dis_model(x)\n",
    "\n",
    "gan = keras.models.Model(inputs=gan_input, outputs=gan_output)\n",
    "gan.compile(loss='categorical_crossentropy', optimizer=adam)"
   ]
  },
  {
   "cell_type": "code",
   "execution_count": 39,
   "metadata": {},
   "outputs": [],
   "source": [
    "generator_losses = []\n",
    "discriminator_losses = []\n",
    "\n",
    "def train(epochs=1, batch_size=128):\n",
    "    batch_count = int(X_train.shape[0] /  batch_size)\n",
    "    print(\"Epochs: \", epochs)\n",
    "    print(\"Batch size: \", batch_size)\n",
    "    print(\"Batches per Epoch: \", batch_count)\n",
    "    \n",
    "    for e in range(1, epochs + 1):\n",
    "        for _ in range(batch_count):\n",
    "            noise = np.random.normal(0, 1, size=[batch_size, noise_size])\n",
    "            indexes = np.random.randint(0, X_train.shape[0], size=batch_size)\n",
    "            real_batch = np.array(X_train)[indexes]\n",
    "            generated_batch = gen_model.predict(noise)\n",
    "            \n",
    "            X_joined = np.concatenate([real_batch, generated_batch])\n",
    "            y_joined = np.concatenate([y_train[indexes], np.array([[0, 0, 0.9]] * batch_size)])\n",
    "\n",
    "            dis_model.trainable = True\n",
    "            dis_loss = dis_model.train_on_batch(X_joined, y_joined)\n",
    "            \n",
    "            noise = np.random.normal(0, 1, size=[batch_size, noise_size])\n",
    "            y_gen = np.array([[0.05, 0.05, 0.9]] * batch_size)\n",
    "            dis_model.trainable = False\n",
    "            gen_loss = gan.train_on_batch(noise, y_gen)\n",
    "        generator_losses.append(gen_loss)\n",
    "        discriminator_losses.append(dis_loss)\n",
    "        if e % 100 == 0:\n",
    "            print('\\n', '-' * 15, 'Epoch {}'.format(e), '-' * 15)\n",
    "            prediction = dis_model.predict(X_test).argmax(1).reshape(-1, 1)\n",
    "            auc_roc_score = metrics.roc_auc_score(y_test, prediction)\n",
    "            auc_pr_score = metrics.average_precision_score(y_test, prediction)\n",
    "            print(\"ROC: {}\\nPR: {}\".format(auc_roc_score, auc_pr_score))"
   ]
  },
  {
   "cell_type": "code",
   "execution_count": 40,
   "metadata": {},
   "outputs": [
    {
     "name": "stdout",
     "output_type": "stream",
     "text": [
      "Epochs:  10\n",
      "Batch size:  128\n",
      "Batches per Epoch:  703\n",
      "\n",
      " --------------- Epoch 1 ---------------\n",
      "ROC: 0.5017122689022833\n",
      "PR: 0.9333692146634985\n"
     ]
    },
    {
     "ename": "KeyboardInterrupt",
     "evalue": "",
     "output_type": "error",
     "traceback": [
      "\u001b[0;31m---------------------------------------------------------------------------\u001b[0m",
      "\u001b[0;31mKeyboardInterrupt\u001b[0m                         Traceback (most recent call last)",
      "\u001b[0;32m<ipython-input-40-84557d09d340>\u001b[0m in \u001b[0;36m<module>\u001b[0;34m()\u001b[0m\n\u001b[0;32m----> 1\u001b[0;31m \u001b[0mtrain\u001b[0m\u001b[0;34m(\u001b[0m\u001b[0;36m10\u001b[0m\u001b[0;34m)\u001b[0m\u001b[0;34m\u001b[0m\u001b[0m\n\u001b[0m",
      "\u001b[0;32m<ipython-input-39-8ebb6ef22fe6>\u001b[0m in \u001b[0;36mtrain\u001b[0;34m(epochs, batch_size)\u001b[0m\n\u001b[1;32m     22\u001b[0m \u001b[0;34m\u001b[0m\u001b[0m\n\u001b[1;32m     23\u001b[0m             \u001b[0mnoise\u001b[0m \u001b[0;34m=\u001b[0m \u001b[0mnp\u001b[0m\u001b[0;34m.\u001b[0m\u001b[0mrandom\u001b[0m\u001b[0;34m.\u001b[0m\u001b[0mnormal\u001b[0m\u001b[0;34m(\u001b[0m\u001b[0;36m0\u001b[0m\u001b[0;34m,\u001b[0m \u001b[0;36m1\u001b[0m\u001b[0;34m,\u001b[0m \u001b[0msize\u001b[0m\u001b[0;34m=\u001b[0m\u001b[0;34m[\u001b[0m\u001b[0mbatch_size\u001b[0m\u001b[0;34m,\u001b[0m \u001b[0mnoise_size\u001b[0m\u001b[0;34m]\u001b[0m\u001b[0;34m)\u001b[0m\u001b[0;34m\u001b[0m\u001b[0m\n\u001b[0;32m---> 24\u001b[0;31m             \u001b[0my_gen\u001b[0m \u001b[0;34m=\u001b[0m \u001b[0mnp\u001b[0m\u001b[0;34m.\u001b[0m\u001b[0marray\u001b[0m\u001b[0;34m(\u001b[0m\u001b[0;34m[\u001b[0m\u001b[0;34m[\u001b[0m\u001b[0;36m0.05\u001b[0m\u001b[0;34m,\u001b[0m \u001b[0;36m0.05\u001b[0m\u001b[0;34m,\u001b[0m \u001b[0;36m0.9\u001b[0m\u001b[0;34m]\u001b[0m\u001b[0;34m]\u001b[0m \u001b[0;34m*\u001b[0m \u001b[0mbatch_size\u001b[0m\u001b[0;34m)\u001b[0m\u001b[0;34m\u001b[0m\u001b[0m\n\u001b[0m\u001b[1;32m     25\u001b[0m             \u001b[0mdis_model\u001b[0m\u001b[0;34m.\u001b[0m\u001b[0mtrainable\u001b[0m \u001b[0;34m=\u001b[0m \u001b[0;32mFalse\u001b[0m\u001b[0;34m\u001b[0m\u001b[0m\n\u001b[1;32m     26\u001b[0m             \u001b[0mgen_loss\u001b[0m \u001b[0;34m=\u001b[0m \u001b[0mgan\u001b[0m\u001b[0;34m.\u001b[0m\u001b[0mtrain_on_batch\u001b[0m\u001b[0;34m(\u001b[0m\u001b[0mnoise\u001b[0m\u001b[0;34m,\u001b[0m \u001b[0my_gen\u001b[0m\u001b[0;34m)\u001b[0m\u001b[0;34m\u001b[0m\u001b[0m\n",
      "\u001b[0;31mKeyboardInterrupt\u001b[0m: "
     ]
    }
   ],
   "source": [
    "train(10000)"
   ]
  },
  {
   "cell_type": "code",
   "execution_count": null,
   "metadata": {},
   "outputs": [],
   "source": []
  }
 ],
 "metadata": {
  "kernelspec": {
   "display_name": "Python 3",
   "language": "python",
   "name": "python3"
  },
  "language_info": {
   "codemirror_mode": {
    "name": "ipython",
    "version": 3
   },
   "file_extension": ".py",
   "mimetype": "text/x-python",
   "name": "python",
   "nbconvert_exporter": "python",
   "pygments_lexer": "ipython3",
   "version": "3.6.6"
  }
 },
 "nbformat": 4,
 "nbformat_minor": 2
}
