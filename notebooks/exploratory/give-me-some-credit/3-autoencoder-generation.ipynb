{
 "cells": [
  {
   "cell_type": "code",
   "execution_count": 90,
   "metadata": {},
   "outputs": [],
   "source": [
    "import keras\n",
    "import numpy as np\n",
    "import matplotlib.pyplot as plt\n",
    "import pandas as pd\n",
    "import sklearn.preprocessing as preprocessing\n",
    "import sklearn.model_selection as model_selection"
   ]
  },
  {
   "cell_type": "code",
   "execution_count": 91,
   "metadata": {},
   "outputs": [],
   "source": [
    "credit_df = pd.read_csv('../../../data/raw/give-me-some-credit/cs-training.csv')\n",
    "del credit_df['Unnamed: 0']\n",
    "\n",
    "X_ = credit_df[[x for x in credit_df.columns if x not in ['SeriousDlqin2yrs']]]\n",
    "y_ = credit_df['SeriousDlqin2yrs']"
   ]
  },
  {
   "cell_type": "code",
   "execution_count": 92,
   "metadata": {},
   "outputs": [],
   "source": [
    "X_filled = X_.fillna(0)\n",
    "X_scaled = preprocessing.MinMaxScaler().fit_transform(X_filled)\n",
    "\n",
    "X_train, X_test, _, _ = model_selection.train_test_split(X_scaled, X_scaled, test_size=0.4, random_state=1)\n",
    "X_test, X_validation, _, _ = model_selection.train_test_split(X_test, X_test, test_size=0.25, random_state=1)"
   ]
  },
  {
   "cell_type": "code",
   "execution_count": 100,
   "metadata": {},
   "outputs": [
    {
     "name": "stdout",
     "output_type": "stream",
     "text": [
      "(90000, 10)\n",
      "(45000, 10)\n",
      "(15000, 10)\n"
     ]
    }
   ],
   "source": [
    "print(X_train.shape)\n",
    "print(X_test.shape)\n",
    "print(X_validation.shape)"
   ]
  },
  {
   "cell_type": "code",
   "execution_count": 117,
   "metadata": {},
   "outputs": [],
   "source": [
    "model = keras.models.Sequential()\n",
    "model.add(keras.layers.Dense(20, activation='relu', input_shape=(X_scaled.shape[1],)))\n",
    "model.add(keras.layers.Dense(10, activation='relu'))\n",
    "model.add(keras.layers.Dense(1, activation='relu'))\n",
    "model.add(keras.layers.Dense(10, activation='sigmoid'))\n",
    "model.compile(optimizer='rmsprop', loss='mse')"
   ]
  },
  {
   "cell_type": "code",
   "execution_count": 118,
   "metadata": {},
   "outputs": [
    {
     "name": "stdout",
     "output_type": "stream",
     "text": [
      "Train on 90000 samples, validate on 45000 samples\n",
      "Epoch 1/10\n",
      "90000/90000 [==============================] - 2s 24us/step - loss: 0.1434 - val_loss: 0.0897\n",
      "Epoch 2/10\n",
      "90000/90000 [==============================] - 2s 17us/step - loss: 0.0569 - val_loss: 0.0324\n",
      "Epoch 3/10\n",
      "90000/90000 [==============================] - 2s 18us/step - loss: 0.0195 - val_loss: 0.0089\n",
      "Epoch 4/10\n",
      "90000/90000 [==============================] - 1s 16us/step - loss: 0.0037 - val_loss: 0.0018\n",
      "Epoch 5/10\n",
      "90000/90000 [==============================] - 1s 16us/step - loss: 0.0016 - val_loss: 0.0016\n",
      "Epoch 6/10\n",
      "90000/90000 [==============================] - 1s 16us/step - loss: 0.0016 - val_loss: 0.0016\n",
      "Epoch 7/10\n",
      "90000/90000 [==============================] - 1s 16us/step - loss: 0.0015 - val_loss: 0.0016\n",
      "Epoch 8/10\n",
      "90000/90000 [==============================] - 1s 16us/step - loss: 0.0015 - val_loss: 0.0015\n",
      "Epoch 9/10\n",
      "90000/90000 [==============================] - 1s 16us/step - loss: 0.0015 - val_loss: 0.0015\n",
      "Epoch 10/10\n",
      "90000/90000 [==============================] - 1s 16us/step - loss: 0.0014 - val_loss: 0.0014\n"
     ]
    }
   ],
   "source": [
    "history = model.fit(X_train, X_train, batch_size=128, epochs=10, validation_data=(X_test, X_test))"
   ]
  },
  {
   "cell_type": "code",
   "execution_count": 106,
   "metadata": {},
   "outputs": [
    {
     "data": {
      "image/png": "[encoded data removed]",
      "text/plain": [
       "<Figure size 432x288 with 1 Axes>"
      ]
     },
     "metadata": {},
     "output_type": "display_data"
    }
   ],
   "source": [
    "plt.plot(history.history['loss'])\n",
    "plt.plot(history.history['val_loss'])\n",
    "plt.ylabel('mse loss')\n",
    "plt.xlabel('epoch')\n",
    "plt.legend(['train', 'test'], loc='upper left')\n",
    "plt.show()"
   ]
  },
  {
   "cell_type": "code",
   "execution_count": null,
   "metadata": {},
   "outputs": [],
   "source": []
  }
 ],
 "metadata": {
  "kernelspec": {
   "display_name": "Python 3",
   "language": "python",
   "name": "python3"
  },
  "language_info": {
   "codemirror_mode": {
    "name": "ipython",
    "version": 3
   },
   "file_extension": ".py",
   "mimetype": "text/x-python",
   "name": "python",
   "nbconvert_exporter": "python",
   "pygments_lexer": "ipython3",
   "version": "3.6.5"
  }
 },
 "nbformat": 4,
 "nbformat_minor": 2
}
