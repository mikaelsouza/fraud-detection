{
 "cells": [
  {
   "cell_type": "markdown",
   "metadata": {},
   "source": [
    "# 2. One-Class SVM"
   ]
  },
  {
   "cell_type": "code",
   "execution_count": 1,
   "metadata": {},
   "outputs": [],
   "source": [
    "import pandas as pd\n",
    "import seaborn as sns\n",
    "import matplotlib.pyplot as plt\n",
    "import numpy as np\n",
    "\n",
    "from collections import Counter\n",
    "from imblearn import over_sampling, under_sampling\n",
    "from sklearn.linear_model import LogisticRegression\n",
    "from sklearn.tree import DecisionTreeClassifier\n",
    "from sklearn.model_selection import cross_validate, cross_val_predict, StratifiedShuffleSplit, train_test_split\n",
    "from sklearn.metrics import recall_score, precision_score, accuracy_score, make_scorer, confusion_matrix\n",
    "from sklearn.svm import OneClassSVM\n",
    "\n",
    "\n",
    "import fraudutils as futils\n",
    "import warnings\n",
    "\n",
    "warnings.filterwarnings(action='once')\n",
    "\n",
    "%load_ext autoreload\n",
    "%autoreload 2\n",
    "%matplotlib inline"
   ]
  },
  {
   "cell_type": "markdown",
   "metadata": {},
   "source": [
    "For OC-SVM, I'll be spllitting the data differently from what I did before.\n",
    "\n",
    "As shown by OC-SVM examples, we should train the model only using examples which our classes are negative."
   ]
  },
  {
   "cell_type": "code",
   "execution_count": 2,
   "metadata": {},
   "outputs": [],
   "source": [
    "cc_df = pd.read_csv('../../../data/raw/kaggle/creditcard.csv')\n",
    "negative_data = cc_df[cc_df['Class'] == 0]\n",
    "negative_data = negative_data.drop(['Time', 'Class'], axis=1)\n",
    "positive_data = cc_df[cc_df['Class'] == 1]\n",
    "positive_data = positive_data.drop(['Time', 'Class'], axis=1)\n",
    "\n",
    "train_positive, test_positive = train_test_split(positive_data, test_size=0.20, random_state=0)\n",
    "train_negative, test_negative = train_test_split(negative_data, test_size=0.20, random_state=0)"
   ]
  },
  {
   "cell_type": "markdown",
   "metadata": {},
   "source": [
    "Because our dataset is too big and OCSVM takes too long to run, I'll use undersampling techniques to reduce the number of examples from our dataset while maintaining its information."
   ]
  },
  {
   "cell_type": "code",
   "execution_count": null,
   "metadata": {},
   "outputs": [],
   "source": []
  }
 ],
 "metadata": {
  "kernelspec": {
   "display_name": "Python 3",
   "language": "python",
   "name": "python3"
  },
  "language_info": {
   "codemirror_mode": {
    "name": "ipython",
    "version": 3
   },
   "file_extension": ".py",
   "mimetype": "text/x-python",
   "name": "python",
   "nbconvert_exporter": "python",
   "pygments_lexer": "ipython3",
   "version": "3.6.6"
  }
 },
 "nbformat": 4,
 "nbformat_minor": 2
}
