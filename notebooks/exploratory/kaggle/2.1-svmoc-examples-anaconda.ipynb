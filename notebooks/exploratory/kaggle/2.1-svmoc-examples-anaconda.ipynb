{
 "cells": [
  {
   "cell_type": "markdown",
   "metadata": {},
   "source": [
    "# 2. One-Class SVM\n",
    "\n",
    "### TO BE RAN IN A POWERFUL MACHINE:\n",
    "\n",
    "While I test which/if undersampling techniques are/will be useful, I will try to run OCSVM on a powerful machine like Anaconda or Sucuri.\n",
    "\n",
    "First, I need to create a dataset split for OCSVM that simulates the datasets that I've used before for simple classification methods.\n",
    "\n",
    "These are the steps I'll be using to create this data split:\n",
    "\n",
    "1. Train Test Split to get 80% of the data as train and 20% as test\n",
    "2. Remove every positive entry from the train data because OCSVM only uses examples that are from the majoritarian data\n",
    "3. Train the model\n",
    "4. Use the trained model to classify the test data\n",
    "\n",
    "The code bellow should be commented and should only be tested on a powerful machine."
   ]
  },
  {
   "cell_type": "code",
   "execution_count": 1,
   "metadata": {},
   "outputs": [],
   "source": [
    "import pandas as pd\n",
    "import seaborn as sns\n",
    "import matplotlib.pyplot as plt\n",
    "import numpy as np\n",
    "\n",
    "from collections import Counter\n",
    "from imblearn import over_sampling, under_sampling\n",
    "from sklearn.linear_model import LogisticRegression\n",
    "from sklearn.tree import DecisionTreeClassifier\n",
    "from sklearn.model_selection import cross_validate, cross_val_predict, StratifiedShuffleSplit, train_test_split\n",
    "from sklearn.metrics import recall_score, precision_score, accuracy_score, make_scorer, confusion_matrix\n",
    "from sklearn.svm import OneClassSVM\n",
    "\n",
    "\n",
    "import fraudutils as futils\n",
    "import warnings\n",
    "\n",
    "warnings.filterwarnings(action='once')\n",
    "\n",
    "%load_ext autoreload\n",
    "%autoreload 2\n",
    "%matplotlib inline"
   ]
  },
  {
   "cell_type": "code",
   "execution_count": 2,
   "metadata": {},
   "outputs": [],
   "source": [
    "cc_df = pd.read_csv('../../../data/raw/kaggle/creditcard.csv')\n",
    "\n",
    "X_ = cc_df.drop(['Time', 'Class'], axis=1)\n",
    "y_ = cc_df['Class']\n",
    "\n",
    "X_train, X_test, y_train, y_test = train_test_split(X_, y_, test_size=0.2, random_state=0, stratify=y_)"
   ]
  },
  {
   "cell_type": "code",
   "execution_count": null,
   "metadata": {},
   "outputs": [],
   "source": [
    "# Generating the training data\n",
    "OC_X_train = pd.DataFrame(X_train)\n",
    "OC_X_train['Class'] = y_train\n",
    "\n",
    "# Removing every entry which class is equal to 1\n",
    "OC_X_train = OC_X_train[OC_X_train['Class'] == 0]\n",
    "\n",
    "# Training the model\n",
    "OCSVM = OneClassSVM(random_state=0)\n",
    "OCSVM.fit(OC_X_train)\n",
    "\n",
    "# Test the data\n",
    "prediction = OCSVM.predict(X_test)"
   ]
  },
  {
   "cell_type": "code",
   "execution_count": null,
   "metadata": {},
   "outputs": [],
   "source": []
  }
 ],
 "metadata": {
  "kernelspec": {
   "display_name": "Python 3",
   "language": "python",
   "name": "python3"
  },
  "language_info": {
   "codemirror_mode": {
    "name": "ipython",
    "version": 3
   },
   "file_extension": ".py",
   "mimetype": "text/x-python",
   "name": "python",
   "nbconvert_exporter": "python",
   "pygments_lexer": "ipython3",
   "version": "3.6.6"
  }
 },
 "nbformat": 4,
 "nbformat_minor": 2
}
